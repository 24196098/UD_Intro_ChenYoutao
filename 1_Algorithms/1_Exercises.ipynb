{
 "cells": [
  {
   "cell_type": "markdown",
   "id": "38e188a5",
   "metadata": {},
   "source": [
    "# Exercise 00\n",
    "Write a piece of code that allocates a list of 20 integers and initializes each element by its index multiplied by 5. Print the result."
   ]
  },
  {
   "cell_type": "code",
   "execution_count": null,
   "id": "01aa4f35",
   "metadata": {},
   "outputs": [],
   "source": [
    "number = []\n",
    "\n",
    "for i in range(20):\n",
    "    number.append(5*i)\n",
    "    \n",
    "print (number)"
   ]
  },
  {
   "cell_type": "markdown",
   "id": "529d91ae",
   "metadata": {},
   "source": [
    "# Exercise 01\n",
    "Define a function that takes an integer as input, prints  all integers that it is divisable by, and returns the largest one."
   ]
  },
  {
   "cell_type": "code",
   "execution_count": null,
   "id": "30e79132",
   "metadata": {},
   "outputs": [],
   "source": [
    "user_input = input(\" \")\n",
    "x = int(user_input)\n",
    "\n",
    "def divisable(x):\n",
    "    for i in range(1,x+1):\n",
    "        if x % i == 0:\n",
    "            print(i)\n",
    "            y = i\n",
    "    return y\n",
    "y = divisable(x) \n",
    "print(\"the largest one is: \"+ str(y))\n"
   ]
  },
  {
   "cell_type": "markdown",
   "id": "cfbe30d4",
   "metadata": {},
   "source": [
    "# Exercise 02\n",
    "- create a dictionary with 6 keys and values of your choice\n",
    "- write a function that takes a dictionary and a value as input and returns whether the value occurs as a key in the dictionary\n",
    "- write a function that takes a dictionary as input, and returns the dictionary but the keys are swapped with their values (resolve the issue if a value occurs twice!)"
   ]
  },
  {
   "cell_type": "code",
   "execution_count": null,
   "id": "2123f1c6",
   "metadata": {},
   "outputs": [],
   "source": [
    "dictionary = {'fruit':'apple',\n",
    "              'food':'potato',\n",
    "              'drink':'coca-cola',\n",
    "              'fruit2':'banana',\n",
    "              'food2':'tomato',\n",
    "              'drink2':'pepsi'}\n",
    "user_input = input(\"please enter a value: \")\n",
    "x = str(user_input)\n",
    "\n",
    "def take_input(dictionary, user_value):\n",
    "    return user_value in dictionary\n",
    "\n",
    "def dictionary_input(dictionary):\n",
    "    swapped_dictionary = {}\n",
    "    for x,y in dictionary.items():\n",
    "        if x not in swapped_dictionary:\n",
    "            swapped_dictionary[y] = x\n",
    "    return swapped_dictionary\n",
    "\n",
    "y = take_input(dictionary, x)\n",
    "\n",
    "if y:\n",
    "    print(\"the value is a key in the dictionary\")\n",
    "else:\n",
    "    print(\"the value is not a key in the dictionary\")\n",
    "\n",
    "reversed_dict = dictionary_input(dictionary)\n",
    "print(\"Swapped dictionary:\", reversed_dict)"
   ]
  },
  {
   "cell_type": "markdown",
   "id": "b4b4e426",
   "metadata": {},
   "source": [
    "# Exercise 03\n",
    "Define a function that creates a dictionary of the first n fibonacci numbers as values paired with their indices as keys. "
   ]
  },
  {
   "cell_type": "code",
   "execution_count": null,
   "id": "7845b5a4",
   "metadata": {},
   "outputs": [],
   "source": [
    "def dictionary(n):\n",
    "    fibonacci_numbers = {}\n",
    "    a = 0\n",
    "    b = 1\n",
    "\n",
    "    for i in range(n):\n",
    "        t = a\n",
    "        a = b\n",
    "        b = t+b\n",
    "        fibonacci_numbers[i]=a\n",
    "\n",
    "    return fibonacci_numbers\n",
    "\n",
    "n = 10\n",
    "print(dictionary(n))"
   ]
  },
  {
   "cell_type": "code",
   "execution_count": 381,
   "id": "9d4bd6fb-0330-4a1f-a8f9-892c0757b176",
   "metadata": {},
   "outputs": [
    {
     "name": "stdout",
     "output_type": "stream",
     "text": [
      "pygame 2.6.1 (SDL 2.28.4, Python 3.11.10)\n",
      "Hello from the pygame community. https://www.pygame.org/contribute.html\n",
      "<VideoInfo(hw = 0, wm = 1,video_mem = 0\n",
      "         blit_hw = 0, blit_hw_CC = 0, blit_hw_A = 0,\n",
      "         blit_sw = 0, blit_sw_CC = 0, blit_sw_A = 0,\n",
      "         bitsize  = 32, bytesize = 4,\n",
      "         masks =  (0x00ff0000, 0x0000ff00, 0x000000ff, 0x00000000),\n",
      "         shifts = (16, 8, 0, 0),\n",
      "         losses =  (0, 0, 0, 8),\n",
      "         current_w = 1920, current_h = 1080\n",
      "         pixel_format = SDL_PIXELFORMAT_RGB888)\n",
      ">\n"
     ]
    },
    {
     "name": "stderr",
     "output_type": "stream",
     "text": [
      "Traceback (most recent call last):\n",
      "  File \"D:\\\\u82f1\\u56fd\\u7559\\u5b66\\u8d44\\u6599\\\\u82f1\\u56fd\\u7855\\u58eb\\u8bfe\\u7a0b\\ArchitectureDigital\\UD_SkillsIntroduction_2024-main\\UD_SkillsIntroduction_2024-main\\1_Algorithms\\Wall_E\\wall_eGame.py\", line 114, in <module>\n",
      "    sys.exit()\n",
      "    ^^^\n",
      "NameError: name 'sys' is not defined\n"
     ]
    }
   ],
   "source": [
    "!python Wall_E/wall_eGame.py"
   ]
  },
  {
   "cell_type": "code",
   "execution_count": null,
   "id": "83d6abe2-0b8d-44d4-80a1-30f4f46d5f3c",
   "metadata": {},
   "outputs": [],
   "source": []
  }
 ],
 "metadata": {
  "kernelspec": {
   "display_name": "Python 3 (ipykernel)",
   "language": "python",
   "name": "python3"
  },
  "language_info": {
   "codemirror_mode": {
    "name": "ipython",
    "version": 3
   },
   "file_extension": ".py",
   "mimetype": "text/x-python",
   "name": "python",
   "nbconvert_exporter": "python",
   "pygments_lexer": "ipython3",
   "version": "3.12.1"
  }
 },
 "nbformat": 4,
 "nbformat_minor": 5
}
