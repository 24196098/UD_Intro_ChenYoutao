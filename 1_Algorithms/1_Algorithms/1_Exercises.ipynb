{
 "cells": [
  {
   "cell_type": "markdown",
   "id": "38e188a5",
   "metadata": {},
   "source": [
    "# Exercise 00\n",
    "Write a piece of code that allocates a list of 20 integers and initializes each element by its index multiplied by 5. Print the result."
   ]
  },
  {
   "cell_type": "code",
   "execution_count": null,
   "id": "01aa4f35",
   "metadata": {},
   "outputs": [],
   "source": [
    "number = []\n",
    "\n",
    "for i in range(20):\n",
    "    number.append(5*i)\n",
    "    \n",
    "print (number)"
   ]
  },
  {
   "cell_type": "markdown",
   "id": "529d91ae",
   "metadata": {},
   "source": [
    "# Exercise 01\n",
    "Define a function that takes an integer as input, prints  all integers that it is divisable by, and returns the largest one."
   ]
  },
  {
   "cell_type": "code",
   "execution_count": null,
   "id": "30e79132",
   "metadata": {},
   "outputs": [],
   "source": [
    "user_input = input(\" \")\n",
    "x = int(user_input)\n",
    "\n",
    "def divisable(x):\n",
    "    for i in range(1,x+1):\n",
    "        if x % i == 0:\n",
    "            print(i)\n",
    "            y = i\n",
    "    return y\n",
    "y = divisable(x) \n",
    "print(\"the largest one is: \"+ str(y))\n"
   ]
  },
  {
   "cell_type": "markdown",
   "id": "cfbe30d4",
   "metadata": {},
   "source": [
    "# Exercise 02\n",
    "- create a dictionary with 6 keys and values of your choice\n",
    "- write a function that takes a dictionary and a value as input and returns whether the value occurs as a key in the dictionary\n",
    "- write a function that takes a dictionary as input, and returns the dictionary but the keys are swapped with their values (resolve the issue if a value occurs twice!)"
   ]
  },
  {
   "cell_type": "code",
   "execution_count": null,
   "id": "2123f1c6",
   "metadata": {},
   "outputs": [],
   "source": [
    "dictionary = {'fruit':'apple',\n",
    "              'food':'potato',\n",
    "              'drink':'coca-cola',\n",
    "              'fruit2':'banana',\n",
    "              'food2':'tomato',\n",
    "              'drink2':'pepsi'}\n",
    "user_input = input(\"please enter a value: \")\n",
    "x = str(user_input)\n",
    "\n",
    "def take_input(dictionary, user_value):\n",
    "    return user_value in dictionary\n",
    "\n",
    "def dictionary_input(dictionary):\n",
    "    swapped_dictionary = {}\n",
    "    for x,y in dictionary.items():\n",
    "        if x not in swapped_dictionary:\n",
    "            swapped_dictionary[y] = x\n",
    "    return swapped_dictionary\n",
    "\n",
    "y = take_input(dictionary, x)\n",
    "\n",
    "if y:\n",
    "    print(\"the value is a key in the dictionary\")\n",
    "else:\n",
    "    print(\"the value is not a key in the dictionary\")\n",
    "\n",
    "reversed_dict = dictionary_input(dictionary)\n",
    "print(\"Swapped dictionary:\", reversed_dict)"
   ]
  },
  {
   "cell_type": "markdown",
   "id": "b4b4e426",
   "metadata": {},
   "source": [
    "# Exercise 03\n",
    "Define a function that creates a dictionary of the first n fibonacci numbers as values paired with their indices as keys. "
   ]
  },
  {
   "cell_type": "code",
   "execution_count": 190,
   "id": "7845b5a4",
   "metadata": {},
   "outputs": [
    {
     "name": "stdout",
     "output_type": "stream",
     "text": [
      "{0: 1, 1: 1, 2: 2, 3: 3, 4: 5, 5: 8, 6: 13, 7: 21, 8: 34, 9: 55}\n"
     ]
    }
   ],
   "source": [
    "def dictionary(n):\n",
    "    fibonacci_numbers = {}\n",
    "    a = 0\n",
    "    b = 1\n",
    "\n",
    "    for i in range(n):\n",
    "        t = a\n",
    "        a = b\n",
    "        b = t+b\n",
    "        fibonacci_numbers[i]=a\n",
    "\n",
    "    return fibonacci_numbers\n",
    "\n",
    "n = 10\n",
    "print(dictionary(n))"
   ]
  }
 ],
 "metadata": {
  "kernelspec": {
   "display_name": "Python 3 (ipykernel)",
   "language": "python",
   "name": "python3"
  },
  "language_info": {
   "codemirror_mode": {
    "name": "ipython",
    "version": 3
   },
   "file_extension": ".py",
   "mimetype": "text/x-python",
   "name": "python",
   "nbconvert_exporter": "python",
   "pygments_lexer": "ipython3",
   "version": "3.12.1"
  }
 },
 "nbformat": 4,
 "nbformat_minor": 5
}
